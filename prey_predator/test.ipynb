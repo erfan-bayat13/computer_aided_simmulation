{
 "cells": [
  {
   "cell_type": "code",
   "execution_count": null,
   "metadata": {},
   "outputs": [],
   "source": [
    "from main import SimulationParameters, Simulation,SimulationAnalyzer"
   ]
  },
  {
   "cell_type": "code",
   "execution_count": null,
   "metadata": {},
   "outputs": [],
   "source": [
    "def run_example_simulation():\n",
    "    # Define simulation parameters\n",
    "    params = SimulationParameters(\n",
    "        lambda1=0.1,   # prey reproduction rate\n",
    "        lambda2=0.05,  # predator reproduction rate\n",
    "        lambda3=0.01,  # predation rate\n",
    "        mu1=0.02,      # prey death rate\n",
    "        mu2=0.03,      # predator death rate\n",
    "        K1=1000,       # prey population threshold\n",
    "        K2=10,         # prey/predator ratio threshold\n",
    "        alpha=0.1,     # prey competition coefficient\n",
    "        beta=0.1       # predator competition coefficient\n",
    "    )\n",
    "    \n",
    "    # Define initial population\n",
    "    initial_population = {\n",
    "        'male_predators': 10,\n",
    "        'female_predators': 10,\n",
    "        'male_prey': 50,\n",
    "        'female_prey': 50\n",
    "    }\n",
    "    \n",
    "    # Create and run simulation\n",
    "    sim = Simulation(params, initial_population, end_time=10.0, statistics_interval=1.0)\n",
    "    # Run multiple simulations for confidence intervals\n",
    "    print(\"Running multiple simulations...\")\n",
    "    all_stats = sim.run_multiple_simulations(num_simulations=10)\n",
    "\n",
    "    print(\"Plotting results...\")\n",
    "    SimulationAnalyzer.plot_simulation_results(all_stats[0])  # Plot first simulation\n",
    "\n",
    "    return all_stats"
   ]
  },
  {
   "cell_type": "code",
   "execution_count": null,
   "metadata": {},
   "outputs": [],
   "source": [
    "all_stats = run_example_simulation()\n",
    "all_stats"
   ]
  }
 ],
 "metadata": {
  "kernelspec": {
   "display_name": "base",
   "language": "python",
   "name": "python3"
  },
  "language_info": {
   "codemirror_mode": {
    "name": "ipython",
    "version": 3
   },
   "file_extension": ".py",
   "mimetype": "text/x-python",
   "name": "python",
   "nbconvert_exporter": "python",
   "pygments_lexer": "ipython3",
   "version": "3.11.5"
  }
 },
 "nbformat": 4,
 "nbformat_minor": 2
}
