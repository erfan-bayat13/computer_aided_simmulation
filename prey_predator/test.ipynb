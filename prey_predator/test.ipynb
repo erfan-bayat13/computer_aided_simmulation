{
 "cells": [
  {
   "cell_type": "code",
   "execution_count": 1,
   "metadata": {},
   "outputs": [
    {
     "name": "stderr",
     "output_type": "stream",
     "text": [
      "/Users/erfanbayat/anaconda3/lib/python3.11/site-packages/pandas/core/arrays/masked.py:60: UserWarning: Pandas requires version '1.3.6' or newer of 'bottleneck' (version '1.3.5' currently installed).\n",
      "  from pandas.core import (\n"
     ]
    }
   ],
   "source": [
    "from main import SimulationParameters, Simulation,SimulationAnalyzer"
   ]
  },
  {
   "cell_type": "code",
   "execution_count": 2,
   "metadata": {},
   "outputs": [],
   "source": [
    "def run_example_simulation():\n",
    "    # Define simulation parameters\n",
    "    params = SimulationParameters(\n",
    "        lambda1=0.005,   # prey reproduction rate\n",
    "        lambda2=0.0025,  # predator reproduction rate\n",
    "        lambda3=0.01,  # predation rate\n",
    "        mu1=0.05,      # prey death rate\n",
    "        mu2=0.1,      # predator death rate\n",
    "        K1=1000,       # prey population threshold\n",
    "        K2=10,         # prey/predator ratio threshold\n",
    "        alpha=0.1,     # prey competition coefficient\n",
    "        beta=0.1       # predator competition coefficient\n",
    "    )\n",
    "    \n",
    "    # Define initial population\n",
    "    initial_population = {\n",
    "        'male_predators': 10,\n",
    "        'female_predators': 10,\n",
    "        'male_prey': 50,\n",
    "        'female_prey': 50\n",
    "    }\n",
    "    \n",
    "    # Create and run simulation\n",
    "    sim = Simulation(params, initial_population, end_time=10.0, statistics_interval=1.0)\n",
    "    # Run multiple simulations for confidence intervals\n",
    "    all_stats = sim.run_single_simulation()\n",
    "\n",
    "    print(\"Plotting results...\")\n",
    "    SimulationAnalyzer.plot_simulation_results(all_stats[0])  # Plot first simulation\n",
    "\n",
    "    return all_stats"
   ]
  },
  {
   "cell_type": "code",
   "execution_count": null,
   "metadata": {},
   "outputs": [
    {
     "name": "stderr",
     "output_type": "stream",
     "text": [
      "Exception ignored in: <bound method IPythonKernel._clean_thread_parent_frames of <ipykernel.ipkernel.IPythonKernel object at 0x105740b10>>\n",
      "Traceback (most recent call last):\n",
      "  File \"/Users/erfanbayat/anaconda3/lib/python3.11/site-packages/ipykernel/ipkernel.py\", line 775, in _clean_thread_parent_frames\n",
      "    def _clean_thread_parent_frames(\n",
      "\n",
      "KeyboardInterrupt: \n"
     ]
    }
   ],
   "source": [
    "all_stats = run_example_simulation()\n",
    "all_stats"
   ]
  },
  {
   "cell_type": "code",
   "execution_count": null,
   "metadata": {},
   "outputs": [],
   "source": []
  }
 ],
 "metadata": {
  "kernelspec": {
   "display_name": "base",
   "language": "python",
   "name": "python3"
  },
  "language_info": {
   "codemirror_mode": {
    "name": "ipython",
    "version": 3
   },
   "file_extension": ".py",
   "mimetype": "text/x-python",
   "name": "python",
   "nbconvert_exporter": "python",
   "pygments_lexer": "ipython3",
   "version": "3.11.5"
  }
 },
 "nbformat": 4,
 "nbformat_minor": 2
}
